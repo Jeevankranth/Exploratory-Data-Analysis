{
  "cells": [
    {
      "cell_type": "markdown",
      "metadata": {
        "id": "view-in-github",
        "colab_type": "text"
      },
      "source": [
        "<a href=\"https://colab.research.google.com/github/Jeevankranth/Exploratory-Data-Analysis/blob/main/classification_news_with_lstm.ipynb\" target=\"_parent\"><img src=\"https://colab.research.google.com/assets/colab-badge.svg\" alt=\"Open In Colab\"/></a>"
      ]
    },
    {
      "cell_type": "code",
      "execution_count": null,
      "id": "495fdf12",
      "metadata": {
        "execution": {
          "iopub.execute_input": "2024-05-14T18:04:44.099546Z",
          "iopub.status.busy": "2024-05-14T18:04:44.099235Z",
          "iopub.status.idle": "2024-05-14T18:04:56.991055Z",
          "shell.execute_reply": "2024-05-14T18:04:56.990195Z"
        },
        "papermill": {
          "duration": 12.902086,
          "end_time": "2024-05-14T18:04:56.993380",
          "exception": false,
          "start_time": "2024-05-14T18:04:44.091294",
          "status": "completed"
        },
        "tags": [],
        "id": "495fdf12",
        "outputId": "bdadcda2-4f46-4774-b2d1-8e6413d9a612"
      },
      "outputs": [
        {
          "name": "stderr",
          "output_type": "stream",
          "text": [
            "2024-05-14 18:04:47.379815: E external/local_xla/xla/stream_executor/cuda/cuda_dnn.cc:9261] Unable to register cuDNN factory: Attempting to register factory for plugin cuDNN when one has already been registered\n",
            "2024-05-14 18:04:47.379921: E external/local_xla/xla/stream_executor/cuda/cuda_fft.cc:607] Unable to register cuFFT factory: Attempting to register factory for plugin cuFFT when one has already been registered\n",
            "2024-05-14 18:04:47.505102: E external/local_xla/xla/stream_executor/cuda/cuda_blas.cc:1515] Unable to register cuBLAS factory: Attempting to register factory for plugin cuBLAS when one has already been registered\n"
          ]
        }
      ],
      "source": [
        "import numpy as np\n",
        "import pandas as pd\n",
        "import os\n",
        "import warnings\n",
        "import re\n",
        "\n",
        "\n",
        "from sklearn.model_selection import train_test_split\n",
        "from sklearn.metrics import accuracy_score, confusion_matrix, classification_report, ConfusionMatrixDisplay\n",
        "\n",
        "from tensorflow.keras.preprocessing.text import Tokenizer\n",
        "from tensorflow.keras.preprocessing.sequence import pad_sequences\n",
        "from tensorflow.keras.layers import Dense, Input, Embedding, LSTM, Dropout, Bidirectional\n",
        "from tensorflow.keras.models import Sequential\n",
        "from tensorflow.keras.optimizers import Adam\n",
        "from tensorflow.keras.losses import BinaryCrossentropy\n",
        "from tensorflow.keras.callbacks import EarlyStopping, ReduceLROnPlateau\n",
        "\n",
        "warnings.filterwarnings('ignore')"
      ]
    },
    {
      "cell_type": "markdown",
      "id": "1948d6e5",
      "metadata": {
        "papermill": {
          "duration": 0.005977,
          "end_time": "2024-05-14T18:04:57.005851",
          "exception": false,
          "start_time": "2024-05-14T18:04:56.999874",
          "status": "completed"
        },
        "tags": [],
        "id": "1948d6e5"
      },
      "source": [
        "**visulizing the first 20 words of first True new**\n",
        "\n",
        "lets just see what is our csv files like"
      ]
    },
    {
      "cell_type": "code",
      "execution_count": null,
      "id": "f6bea03d",
      "metadata": {
        "execution": {
          "iopub.execute_input": "2024-05-14T18:04:57.020256Z",
          "iopub.status.busy": "2024-05-14T18:04:57.019722Z",
          "iopub.status.idle": "2024-05-14T18:04:59.370641Z",
          "shell.execute_reply": "2024-05-14T18:04:59.369584Z"
        },
        "papermill": {
          "duration": 2.361297,
          "end_time": "2024-05-14T18:04:59.373648",
          "exception": false,
          "start_time": "2024-05-14T18:04:57.012351",
          "status": "completed"
        },
        "tags": [],
        "id": "f6bea03d",
        "outputId": "583e87ad-543c-4e38-902d-2cbc56f27a05"
      },
      "outputs": [
        {
          "name": "stdout",
          "output_type": "stream",
          "text": [
            "a sample true news(only 20 first words):\n",
            "\n",
            " WASHINGTON (Reuters) - Transgender people will be allowed for the first time to enlist in the U.S. military starting on Monday as \n"
          ]
        }
      ],
      "source": [
        "true_df = pd.read_csv('/content/True.csv')\n",
        "fake_df = pd.read_csv('/content/Fake.csv')\n",
        "\n",
        "visualize = ''\n",
        "counter = 0\n",
        "\n",
        "for i in  true_df['text'][1].split(' '):\n",
        "    visualize = visualize + i + \" \"\n",
        "    if counter>20:\n",
        "        break\n",
        "    counter = counter + 1\n",
        "\n",
        "\n",
        "print('a sample true news(only 20 first words):\\n\\n', visualize)"
      ]
    },
    {
      "cell_type": "code",
      "execution_count": null,
      "id": "9dce0a0c",
      "metadata": {
        "execution": {
          "iopub.execute_input": "2024-05-14T18:04:59.392959Z",
          "iopub.status.busy": "2024-05-14T18:04:59.392624Z",
          "iopub.status.idle": "2024-05-14T18:04:59.420941Z",
          "shell.execute_reply": "2024-05-14T18:04:59.419868Z"
        },
        "papermill": {
          "duration": 0.038968,
          "end_time": "2024-05-14T18:04:59.422953",
          "exception": false,
          "start_time": "2024-05-14T18:04:59.383985",
          "status": "completed"
        },
        "tags": [],
        "id": "9dce0a0c",
        "outputId": "c7e6943b-54ca-4900-f8ed-c7a6208a0ec3"
      },
      "outputs": [
        {
          "name": "stdout",
          "output_type": "stream",
          "text": [
            "                                                    text  labels\n",
            "44050   21st Century Wire asks HAVE YOUR SHOUT: Frida...       0\n",
            "32746  Nunes dropped a bombshell that Obama admin spi...       0\n",
            "36619  Does anyone remember these girls?Dixie who?Jus...       0\n",
            "19779  BEIRUT (Reuters) - The Deir al-Zor military ai...       1\n",
            "29046  The GOP is known for its misogyny. This is esp...       0\n",
            "(44898, 2)\n"
          ]
        }
      ],
      "source": [
        "true_df['labels'] = 1\n",
        "fake_df['labels'] = 0\n",
        "\n",
        "news = pd.concat([true_df,fake_df],ignore_index=True).sample(frac = 1)\n",
        "news.drop(columns = ['title','subject','date'],inplace = True)\n",
        "print(news.head())\n",
        "print(news.shape)"
      ]
    },
    {
      "cell_type": "markdown",
      "id": "e5d21574",
      "metadata": {
        "papermill": {
          "duration": 0.006143,
          "end_time": "2024-05-14T18:04:59.435657",
          "exception": false,
          "start_time": "2024-05-14T18:04:59.429514",
          "status": "completed"
        },
        "tags": [],
        "id": "e5d21574"
      },
      "source": [
        "**data cleanning**"
      ]
    },
    {
      "cell_type": "code",
      "execution_count": null,
      "id": "6e98d4f7",
      "metadata": {
        "execution": {
          "iopub.execute_input": "2024-05-14T18:04:59.449281Z",
          "iopub.status.busy": "2024-05-14T18:04:59.448990Z",
          "iopub.status.idle": "2024-05-14T18:04:59.727755Z",
          "shell.execute_reply": "2024-05-14T18:04:59.726835Z"
        },
        "papermill": {
          "duration": 0.287948,
          "end_time": "2024-05-14T18:04:59.729832",
          "exception": false,
          "start_time": "2024-05-14T18:04:59.441884",
          "status": "completed"
        },
        "tags": [],
        "id": "6e98d4f7",
        "outputId": "673bdd6c-126f-412c-bf33-1bcdef56cdfd"
      },
      "outputs": [
        {
          "data": {
            "text/plain": [
              "(38647, 2)"
            ]
          },
          "execution_count": 4,
          "metadata": {},
          "output_type": "execute_result"
        }
      ],
      "source": [
        "news = news.drop_duplicates()\n",
        "news.shape"
      ]
    },
    {
      "cell_type": "markdown",
      "id": "c3aeab5c",
      "metadata": {
        "papermill": {
          "duration": 0.006336,
          "end_time": "2024-05-14T18:04:59.743080",
          "exception": false,
          "start_time": "2024-05-14T18:04:59.736744",
          "status": "completed"
        },
        "tags": [],
        "id": "c3aeab5c"
      },
      "source": [
        "**data preprocessing and train , validation ,and test split**\n",
        "\n",
        "we split data to:\n",
        "* 70% train\n",
        "* 15% test\n",
        "* 15% validation"
      ]
    },
    {
      "cell_type": "code",
      "execution_count": null,
      "id": "7d060f4f",
      "metadata": {
        "execution": {
          "iopub.execute_input": "2024-05-14T18:04:59.757184Z",
          "iopub.status.busy": "2024-05-14T18:04:59.756871Z",
          "iopub.status.idle": "2024-05-14T18:04:59.771462Z",
          "shell.execute_reply": "2024-05-14T18:04:59.770171Z"
        },
        "papermill": {
          "duration": 0.024388,
          "end_time": "2024-05-14T18:04:59.773756",
          "exception": false,
          "start_time": "2024-05-14T18:04:59.749368",
          "status": "completed"
        },
        "tags": [],
        "id": "7d060f4f",
        "outputId": "a8426aa0-69ab-4e16-c8b8-90307d4a4be9"
      },
      "outputs": [
        {
          "name": "stdout",
          "output_type": "stream",
          "text": [
            "train data:  27052 : 69.99767122933216 %  of total dataset\n",
            "validation data:  5797 : 14.999870623851786 %  of total dataset\n",
            "test data:  5798 : 15.002458146816053 %  of total dataset\n"
          ]
        }
      ],
      "source": [
        "texts = news['text'].values\n",
        "labels = news['labels'].values\n",
        "\n",
        "#train, validation, and test split\n",
        "x_train, x_val, y_train, y_val = train_test_split(texts, labels, test_size=0.3, random_state=42, shuffle=True, stratify=None)\n",
        "x_val, x_test, y_val, y_test = train_test_split(x_val, y_val, test_size=0.5, random_state=42, shuffle=True, stratify=None)\n",
        "\n",
        "len_y_total = len(y_train)+ len(y_val)+ len(y_test)\n",
        "print('train data: ', len(y_train),':', len(y_train)/len_y_total *100 , '% ', 'of total dataset')\n",
        "print('validation data: ', len(y_val),':', len(y_val)/len_y_total *100 , '% ', 'of total dataset')\n",
        "print('test data: ', len(y_test),':', len(y_test)/len_y_total *100 , '% ', 'of total dataset')"
      ]
    },
    {
      "cell_type": "markdown",
      "id": "dbb348c8",
      "metadata": {
        "papermill": {
          "duration": 0.007589,
          "end_time": "2024-05-14T18:04:59.788791",
          "exception": false,
          "start_time": "2024-05-14T18:04:59.781202",
          "status": "completed"
        },
        "tags": [],
        "id": "dbb348c8"
      },
      "source": [
        "**data preprocessing**"
      ]
    },
    {
      "cell_type": "code",
      "execution_count": null,
      "id": "df8b622d",
      "metadata": {
        "execution": {
          "iopub.execute_input": "2024-05-14T18:04:59.803229Z",
          "iopub.status.busy": "2024-05-14T18:04:59.802960Z",
          "iopub.status.idle": "2024-05-14T18:05:23.831631Z",
          "shell.execute_reply": "2024-05-14T18:05:23.830633Z"
        },
        "papermill": {
          "duration": 24.038641,
          "end_time": "2024-05-14T18:05:23.834171",
          "exception": false,
          "start_time": "2024-05-14T18:04:59.795530",
          "status": "completed"
        },
        "tags": [],
        "id": "df8b622d",
        "outputId": "3da33a76-6b74-4cbb-e8b8-f05cfc6e5df5"
      },
      "outputs": [
        {
          "name": "stdout",
          "output_type": "stream",
          "text": [
            "the first 20 words of first train text after preprocessing:\n",
            "washington reuters a proposal by u s republicans to repeal and replace the obamacare health insurance program suffered serious new setbacks within \n"
          ]
        }
      ],
      "source": [
        "def preprocessing(text):\n",
        "    text = text.lower()\n",
        "\n",
        "    text = re.sub('[^a-zA-Z]', ' ', text)\n",
        "    text = re.sub('\\s+', ' ', text)\n",
        "    text = re.sub(r'https?://\\S+|www\\.\\S+|[^a-zA-Z\\s]', '', text)\n",
        "    text = re.sub(r'<.*?>', '', text)\n",
        "\n",
        "    return text\n",
        "\n",
        "\n",
        "vectorized = np.vectorize(preprocessing)\n",
        "x_train = vectorized(x_train)\n",
        "x_test = vectorized(x_test)\n",
        "x_val = vectorized(x_val)\n",
        "\n",
        "print('the first 20 words of first train text after preprocessing:')\n",
        "visualize = ''\n",
        "counter = 0\n",
        "for i in x_train[0].split(' '):\n",
        "    visualize = visualize + i + \" \"\n",
        "    if counter>20:\n",
        "        break\n",
        "    counter = counter + 1\n",
        "print(visualize)"
      ]
    },
    {
      "cell_type": "markdown",
      "id": "b89eb59d",
      "metadata": {
        "papermill": {
          "duration": 0.006204,
          "end_time": "2024-05-14T18:05:23.848889",
          "exception": false,
          "start_time": "2024-05-14T18:05:23.842685",
          "status": "completed"
        },
        "tags": [],
        "id": "b89eb59d"
      },
      "source": [
        "**tokenize and padding process:**"
      ]
    },
    {
      "cell_type": "code",
      "execution_count": null,
      "id": "bb120f54",
      "metadata": {
        "execution": {
          "iopub.execute_input": "2024-05-14T18:05:23.862920Z",
          "iopub.status.busy": "2024-05-14T18:05:23.862583Z",
          "iopub.status.idle": "2024-05-14T18:05:50.047570Z",
          "shell.execute_reply": "2024-05-14T18:05:50.046760Z"
        },
        "papermill": {
          "duration": 26.194458,
          "end_time": "2024-05-14T18:05:50.049801",
          "exception": false,
          "start_time": "2024-05-14T18:05:23.855343",
          "status": "completed"
        },
        "tags": [],
        "id": "bb120f54"
      },
      "outputs": [],
      "source": [
        "tokenizer = Tokenizer()\n",
        "tokenizer.fit_on_texts(x_train)\n",
        "\n",
        "train_seq = tokenizer.texts_to_sequences(x_train)\n",
        "test_seq = tokenizer.texts_to_sequences(x_test)\n",
        "val_seq = tokenizer.texts_to_sequences(x_val)\n",
        "\n",
        "vocab_size = len(tokenizer.word_index) + 1\n",
        "max_length = max(len(sequence) for sequence in train_seq)\n",
        "\n",
        "\n",
        "train_seq = pad_sequences(train_seq, maxlen = max_length, padding = 'post', truncating = 'post')\n",
        "test_seq = pad_sequences(test_seq, maxlen = max_length, padding = 'post', truncating = 'post')\n",
        "val_seq = pad_sequences(val_seq, maxlen = max_length, padding = 'post', truncating = 'post')\n"
      ]
    },
    {
      "cell_type": "markdown",
      "id": "89233f3e",
      "metadata": {
        "papermill": {
          "duration": 0.006344,
          "end_time": "2024-05-14T18:05:50.063171",
          "exception": false,
          "start_time": "2024-05-14T18:05:50.056827",
          "status": "completed"
        },
        "tags": [],
        "id": "89233f3e"
      },
      "source": [
        "**creating our model:**"
      ]
    },
    {
      "cell_type": "code",
      "execution_count": null,
      "id": "15b39390",
      "metadata": {
        "execution": {
          "iopub.execute_input": "2024-05-14T18:05:50.077139Z",
          "iopub.status.busy": "2024-05-14T18:05:50.076858Z",
          "iopub.status.idle": "2024-05-14T18:05:51.369677Z",
          "shell.execute_reply": "2024-05-14T18:05:51.368772Z"
        },
        "papermill": {
          "duration": 1.30207,
          "end_time": "2024-05-14T18:05:51.371637",
          "exception": false,
          "start_time": "2024-05-14T18:05:50.069567",
          "status": "completed"
        },
        "tags": [],
        "id": "15b39390",
        "outputId": "8fabeb29-5cf7-42fb-e820-3c4ab0480c32"
      },
      "outputs": [
        {
          "data": {
            "text/html": [
              "<pre style=\"white-space:pre;overflow-x:auto;line-height:normal;font-family:Menlo,'DejaVu Sans Mono',consolas,'Courier New',monospace\"><span style=\"font-weight: bold\">Model: \"sequential\"</span>\n",
              "</pre>\n"
            ],
            "text/plain": [
              "\u001b[1mModel: \"sequential\"\u001b[0m\n"
            ]
          },
          "metadata": {},
          "output_type": "display_data"
        },
        {
          "data": {
            "text/html": [
              "<pre style=\"white-space:pre;overflow-x:auto;line-height:normal;font-family:Menlo,'DejaVu Sans Mono',consolas,'Courier New',monospace\">┏━━━━━━━━━━━━━━━━━━━━━━━━━━━━━━━━━┳━━━━━━━━━━━━━━━━━━━━━━━━┳━━━━━━━━━━━━━━━┓\n",
              "┃<span style=\"font-weight: bold\"> Layer (type)                    </span>┃<span style=\"font-weight: bold\"> Output Shape           </span>┃<span style=\"font-weight: bold\">       Param # </span>┃\n",
              "┡━━━━━━━━━━━━━━━━━━━━━━━━━━━━━━━━━╇━━━━━━━━━━━━━━━━━━━━━━━━╇━━━━━━━━━━━━━━━┩\n",
              "│ embedding (<span style=\"color: #0087ff; text-decoration-color: #0087ff\">Embedding</span>)           │ (<span style=\"color: #00d7ff; text-decoration-color: #00d7ff\">None</span>, <span style=\"color: #00af00; text-decoration-color: #00af00\">7350</span>, <span style=\"color: #00af00; text-decoration-color: #00af00\">300</span>)      │    <span style=\"color: #00af00; text-decoration-color: #00af00\">29,327,700</span> │\n",
              "├─────────────────────────────────┼────────────────────────┼───────────────┤\n",
              "│ bidirectional (<span style=\"color: #0087ff; text-decoration-color: #0087ff\">Bidirectional</span>)   │ (<span style=\"color: #00d7ff; text-decoration-color: #00d7ff\">None</span>, <span style=\"color: #00af00; text-decoration-color: #00af00\">7350</span>, <span style=\"color: #00af00; text-decoration-color: #00af00\">256</span>)      │       <span style=\"color: #00af00; text-decoration-color: #00af00\">439,296</span> │\n",
              "├─────────────────────────────────┼────────────────────────┼───────────────┤\n",
              "│ bidirectional_1 (<span style=\"color: #0087ff; text-decoration-color: #0087ff\">Bidirectional</span>) │ (<span style=\"color: #00d7ff; text-decoration-color: #00d7ff\">None</span>, <span style=\"color: #00af00; text-decoration-color: #00af00\">128</span>)            │       <span style=\"color: #00af00; text-decoration-color: #00af00\">164,352</span> │\n",
              "├─────────────────────────────────┼────────────────────────┼───────────────┤\n",
              "│ dropout (<span style=\"color: #0087ff; text-decoration-color: #0087ff\">Dropout</span>)               │ (<span style=\"color: #00d7ff; text-decoration-color: #00d7ff\">None</span>, <span style=\"color: #00af00; text-decoration-color: #00af00\">128</span>)            │             <span style=\"color: #00af00; text-decoration-color: #00af00\">0</span> │\n",
              "├─────────────────────────────────┼────────────────────────┼───────────────┤\n",
              "│ dense (<span style=\"color: #0087ff; text-decoration-color: #0087ff\">Dense</span>)                   │ (<span style=\"color: #00d7ff; text-decoration-color: #00d7ff\">None</span>, <span style=\"color: #00af00; text-decoration-color: #00af00\">256</span>)            │        <span style=\"color: #00af00; text-decoration-color: #00af00\">33,024</span> │\n",
              "├─────────────────────────────────┼────────────────────────┼───────────────┤\n",
              "│ dropout_1 (<span style=\"color: #0087ff; text-decoration-color: #0087ff\">Dropout</span>)             │ (<span style=\"color: #00d7ff; text-decoration-color: #00d7ff\">None</span>, <span style=\"color: #00af00; text-decoration-color: #00af00\">256</span>)            │             <span style=\"color: #00af00; text-decoration-color: #00af00\">0</span> │\n",
              "├─────────────────────────────────┼────────────────────────┼───────────────┤\n",
              "│ dense_1 (<span style=\"color: #0087ff; text-decoration-color: #0087ff\">Dense</span>)                 │ (<span style=\"color: #00d7ff; text-decoration-color: #00d7ff\">None</span>, <span style=\"color: #00af00; text-decoration-color: #00af00\">1</span>)              │           <span style=\"color: #00af00; text-decoration-color: #00af00\">257</span> │\n",
              "└─────────────────────────────────┴────────────────────────┴───────────────┘\n",
              "</pre>\n"
            ],
            "text/plain": [
              "┏━━━━━━━━━━━━━━━━━━━━━━━━━━━━━━━━━┳━━━━━━━━━━━━━━━━━━━━━━━━┳━━━━━━━━━━━━━━━┓\n",
              "┃\u001b[1m \u001b[0m\u001b[1mLayer (type)                   \u001b[0m\u001b[1m \u001b[0m┃\u001b[1m \u001b[0m\u001b[1mOutput Shape          \u001b[0m\u001b[1m \u001b[0m┃\u001b[1m \u001b[0m\u001b[1m      Param #\u001b[0m\u001b[1m \u001b[0m┃\n",
              "┡━━━━━━━━━━━━━━━━━━━━━━━━━━━━━━━━━╇━━━━━━━━━━━━━━━━━━━━━━━━╇━━━━━━━━━━━━━━━┩\n",
              "│ embedding (\u001b[38;5;33mEmbedding\u001b[0m)           │ (\u001b[38;5;45mNone\u001b[0m, \u001b[38;5;34m7350\u001b[0m, \u001b[38;5;34m300\u001b[0m)      │    \u001b[38;5;34m29,327,700\u001b[0m │\n",
              "├─────────────────────────────────┼────────────────────────┼───────────────┤\n",
              "│ bidirectional (\u001b[38;5;33mBidirectional\u001b[0m)   │ (\u001b[38;5;45mNone\u001b[0m, \u001b[38;5;34m7350\u001b[0m, \u001b[38;5;34m256\u001b[0m)      │       \u001b[38;5;34m439,296\u001b[0m │\n",
              "├─────────────────────────────────┼────────────────────────┼───────────────┤\n",
              "│ bidirectional_1 (\u001b[38;5;33mBidirectional\u001b[0m) │ (\u001b[38;5;45mNone\u001b[0m, \u001b[38;5;34m128\u001b[0m)            │       \u001b[38;5;34m164,352\u001b[0m │\n",
              "├─────────────────────────────────┼────────────────────────┼───────────────┤\n",
              "│ dropout (\u001b[38;5;33mDropout\u001b[0m)               │ (\u001b[38;5;45mNone\u001b[0m, \u001b[38;5;34m128\u001b[0m)            │             \u001b[38;5;34m0\u001b[0m │\n",
              "├─────────────────────────────────┼────────────────────────┼───────────────┤\n",
              "│ dense (\u001b[38;5;33mDense\u001b[0m)                   │ (\u001b[38;5;45mNone\u001b[0m, \u001b[38;5;34m256\u001b[0m)            │        \u001b[38;5;34m33,024\u001b[0m │\n",
              "├─────────────────────────────────┼────────────────────────┼───────────────┤\n",
              "│ dropout_1 (\u001b[38;5;33mDropout\u001b[0m)             │ (\u001b[38;5;45mNone\u001b[0m, \u001b[38;5;34m256\u001b[0m)            │             \u001b[38;5;34m0\u001b[0m │\n",
              "├─────────────────────────────────┼────────────────────────┼───────────────┤\n",
              "│ dense_1 (\u001b[38;5;33mDense\u001b[0m)                 │ (\u001b[38;5;45mNone\u001b[0m, \u001b[38;5;34m1\u001b[0m)              │           \u001b[38;5;34m257\u001b[0m │\n",
              "└─────────────────────────────────┴────────────────────────┴───────────────┘\n"
            ]
          },
          "metadata": {},
          "output_type": "display_data"
        },
        {
          "data": {
            "text/html": [
              "<pre style=\"white-space:pre;overflow-x:auto;line-height:normal;font-family:Menlo,'DejaVu Sans Mono',consolas,'Courier New',monospace\"><span style=\"font-weight: bold\"> Total params: </span><span style=\"color: #00af00; text-decoration-color: #00af00\">29,964,629</span> (114.31 MB)\n",
              "</pre>\n"
            ],
            "text/plain": [
              "\u001b[1m Total params: \u001b[0m\u001b[38;5;34m29,964,629\u001b[0m (114.31 MB)\n"
            ]
          },
          "metadata": {},
          "output_type": "display_data"
        },
        {
          "data": {
            "text/html": [
              "<pre style=\"white-space:pre;overflow-x:auto;line-height:normal;font-family:Menlo,'DejaVu Sans Mono',consolas,'Courier New',monospace\"><span style=\"font-weight: bold\"> Trainable params: </span><span style=\"color: #00af00; text-decoration-color: #00af00\">636,929</span> (2.43 MB)\n",
              "</pre>\n"
            ],
            "text/plain": [
              "\u001b[1m Trainable params: \u001b[0m\u001b[38;5;34m636,929\u001b[0m (2.43 MB)\n"
            ]
          },
          "metadata": {},
          "output_type": "display_data"
        },
        {
          "data": {
            "text/html": [
              "<pre style=\"white-space:pre;overflow-x:auto;line-height:normal;font-family:Menlo,'DejaVu Sans Mono',consolas,'Courier New',monospace\"><span style=\"font-weight: bold\"> Non-trainable params: </span><span style=\"color: #00af00; text-decoration-color: #00af00\">29,327,700</span> (111.88 MB)\n",
              "</pre>\n"
            ],
            "text/plain": [
              "\u001b[1m Non-trainable params: \u001b[0m\u001b[38;5;34m29,327,700\u001b[0m (111.88 MB)\n"
            ]
          },
          "metadata": {},
          "output_type": "display_data"
        }
      ],
      "source": [
        "epochs = 10\n",
        "lr = 1e-3\n",
        "embedding_dim = 300\n",
        "model = Sequential([\n",
        "    Input(shape = (max_length,)),\n",
        "    Embedding(vocab_size, embedding_dim, input_length = max_length, trainable = False),\n",
        "\n",
        "    Bidirectional(LSTM(128, return_sequences = True)),\n",
        "    Bidirectional(LSTM(64)),\n",
        "    Dropout(0.2),\n",
        "\n",
        "    Dense(256, activation = 'relu'),\n",
        "\n",
        "    Dropout(0.5),\n",
        "\n",
        "    Dense(1, activation = 'sigmoid')\n",
        "])\n",
        "\n",
        "model.compile(optimizer = Adam(learning_rate = lr), loss = BinaryCrossentropy(), metrics = ['accuracy'])\n",
        "model.summary()"
      ]
    },
    {
      "cell_type": "markdown",
      "id": "72ff9efc",
      "metadata": {
        "papermill": {
          "duration": 0.007841,
          "end_time": "2024-05-14T18:05:51.387511",
          "exception": false,
          "start_time": "2024-05-14T18:05:51.379670",
          "status": "completed"
        },
        "tags": [],
        "id": "72ff9efc"
      },
      "source": [
        "**training our model:**"
      ]
    },
    {
      "cell_type": "code",
      "execution_count": null,
      "id": "2d07e123",
      "metadata": {
        "execution": {
          "iopub.execute_input": "2024-05-14T18:05:51.403825Z",
          "iopub.status.busy": "2024-05-14T18:05:51.403517Z",
          "iopub.status.idle": "2024-05-14T19:01:25.518282Z",
          "shell.execute_reply": "2024-05-14T19:01:25.517044Z"
        },
        "papermill": {
          "duration": 3334.167508,
          "end_time": "2024-05-14T19:01:25.562792",
          "exception": false,
          "start_time": "2024-05-14T18:05:51.395284",
          "status": "completed"
        },
        "tags": [],
        "id": "2d07e123",
        "outputId": "b7b37526-7d1c-4d0d-dcc5-813759435ba9"
      },
      "outputs": [
        {
          "name": "stdout",
          "output_type": "stream",
          "text": [
            "Epoch 1/10\n",
            "\u001b[1m846/846\u001b[0m \u001b[32m━━━━━━━━━━━━━━━━━━━━\u001b[0m\u001b[37m\u001b[0m \u001b[1m832s\u001b[0m 977ms/step - accuracy: 0.9393 - loss: 0.1266 - val_accuracy: 0.9976 - val_loss: 0.0147 - learning_rate: 0.0010\n",
            "Epoch 2/10\n",
            "\u001b[1m846/846\u001b[0m \u001b[32m━━━━━━━━━━━━━━━━━━━━\u001b[0m\u001b[37m\u001b[0m \u001b[1m830s\u001b[0m 982ms/step - accuracy: 0.9969 - loss: 0.0135 - val_accuracy: 0.9976 - val_loss: 0.0118 - learning_rate: 0.0010\n",
            "Epoch 3/10\n",
            "\u001b[1m846/846\u001b[0m \u001b[32m━━━━━━━━━━━━━━━━━━━━\u001b[0m\u001b[37m\u001b[0m \u001b[1m835s\u001b[0m 987ms/step - accuracy: 0.9988 - loss: 0.0078 - val_accuracy: 0.9976 - val_loss: 0.0135 - learning_rate: 0.0010\n",
            "Epoch 4/10\n",
            "\u001b[1m846/846\u001b[0m \u001b[32m━━━━━━━━━━━━━━━━━━━━\u001b[0m\u001b[37m\u001b[0m \u001b[1m835s\u001b[0m 987ms/step - accuracy: 0.9990 - loss: 0.0056 - val_accuracy: 0.9974 - val_loss: 0.0134 - learning_rate: 2.0000e-04\n"
          ]
        }
      ],
      "source": [
        "model_es = EarlyStopping(monitor = 'val_loss', mode = 'min', patience = 2, restore_best_weights = True)\n",
        "model_rlr = ReduceLROnPlateau(monitor = 'val_loss', factor = 0.2, patience = 1, mode = 'min')\n",
        "\n",
        "# train the model\n",
        "\n",
        "history = model.fit(train_seq, y_train, epochs = epochs,\n",
        "                    validation_data = (val_seq , y_val), callbacks = [model_es, model_rlr])"
      ]
    },
    {
      "cell_type": "markdown",
      "id": "1ff6b2a4",
      "metadata": {
        "papermill": {
          "duration": 0.276664,
          "end_time": "2024-05-14T19:01:26.118619",
          "exception": false,
          "start_time": "2024-05-14T19:01:25.841955",
          "status": "completed"
        },
        "tags": [],
        "id": "1ff6b2a4"
      },
      "source": [
        "**evaluation:**"
      ]
    },
    {
      "cell_type": "markdown",
      "id": "71d68aed",
      "metadata": {
        "papermill": {
          "duration": 0.277201,
          "end_time": "2024-05-14T19:01:26.673658",
          "exception": false,
          "start_time": "2024-05-14T19:01:26.396457",
          "status": "completed"
        },
        "tags": [],
        "id": "71d68aed"
      },
      "source": [
        "**train and test accuracy:**"
      ]
    },
    {
      "cell_type": "code",
      "execution_count": null,
      "id": "31ab482d",
      "metadata": {
        "execution": {
          "iopub.execute_input": "2024-05-14T19:01:27.320119Z",
          "iopub.status.busy": "2024-05-14T19:01:27.319748Z",
          "iopub.status.idle": "2024-05-14T19:07:36.408164Z",
          "shell.execute_reply": "2024-05-14T19:07:36.407200Z"
        },
        "papermill": {
          "duration": 369.689391,
          "end_time": "2024-05-14T19:07:36.691392",
          "exception": false,
          "start_time": "2024-05-14T19:01:27.002001",
          "status": "completed"
        },
        "tags": [],
        "id": "31ab482d",
        "outputId": "4746ca7e-a9b1-4202-f3a9-78c00f5d867e"
      },
      "outputs": [
        {
          "name": "stdout",
          "output_type": "stream",
          "text": [
            "Train Accuracy : 99.86 %\n",
            "Test Accuracy  : 99.88 %\n"
          ]
        }
      ],
      "source": [
        "import seaborn as sns\n",
        "import matplotlib.pyplot as plt\n",
        "\n",
        "# get predictions\n",
        "\n",
        "y_pred_train = np.round(model.predict(train_seq, verbose = 0))\n",
        "y_pred_test = np.round(model.predict(test_seq, verbose = 0))\n",
        "\n",
        "# display the accuracy\n",
        "\n",
        "print(f'Train Accuracy : {accuracy_score(y_train, y_pred_train) * 100:.2f} %')\n",
        "print(f'Test Accuracy  : {accuracy_score(y_test, y_pred_test) * 100:.2f} %')"
      ]
    },
    {
      "cell_type": "markdown",
      "id": "1bd4a467",
      "metadata": {
        "papermill": {
          "duration": 0.290067,
          "end_time": "2024-05-14T19:07:37.256526",
          "exception": false,
          "start_time": "2024-05-14T19:07:36.966459",
          "status": "completed"
        },
        "tags": [],
        "id": "1bd4a467"
      },
      "source": [
        "**classification reports:**"
      ]
    },
    {
      "cell_type": "code",
      "execution_count": null,
      "id": "0743a82d",
      "metadata": {
        "execution": {
          "iopub.execute_input": "2024-05-14T19:07:37.814881Z",
          "iopub.status.busy": "2024-05-14T19:07:37.814266Z",
          "iopub.status.idle": "2024-05-14T19:07:37.848070Z",
          "shell.execute_reply": "2024-05-14T19:07:37.847130Z"
        },
        "papermill": {
          "duration": 0.318153,
          "end_time": "2024-05-14T19:07:37.849935",
          "exception": false,
          "start_time": "2024-05-14T19:07:37.531782",
          "status": "completed"
        },
        "tags": [],
        "id": "0743a82d",
        "outputId": "6ee95ec1-de15-4f5d-96e3-46eeb0d48f69"
      },
      "outputs": [
        {
          "name": "stdout",
          "output_type": "stream",
          "text": [
            "Classification Report (Train) : \n",
            "\n",
            "              precision    recall  f1-score   support\n",
            "\n",
            "           0       1.00      1.00      1.00     12229\n",
            "           1       1.00      1.00      1.00     14823\n",
            "\n",
            "    accuracy                           1.00     27052\n",
            "   macro avg       1.00      1.00      1.00     27052\n",
            "weighted avg       1.00      1.00      1.00     27052\n",
            "\n",
            "----------------------------------------\n",
            "\n",
            "Classification Report (Test)  : \n",
            "\n",
            "              precision    recall  f1-score   support\n",
            "\n",
            "           0       1.00      1.00      1.00      2602\n",
            "           1       1.00      1.00      1.00      3196\n",
            "\n",
            "    accuracy                           1.00      5798\n",
            "   macro avg       1.00      1.00      1.00      5798\n",
            "weighted avg       1.00      1.00      1.00      5798\n",
            "\n"
          ]
        }
      ],
      "source": [
        "# display classification report\n",
        "\n",
        "print(f'Classification Report (Train) : \\n\\n{classification_report(y_train, y_pred_train)}')\n",
        "print(40*'-')\n",
        "print(f'\\nClassification Report (Test)  : \\n\\n{classification_report(y_test, y_pred_test)}')"
      ]
    },
    {
      "cell_type": "markdown",
      "id": "8912ae3a",
      "metadata": {
        "papermill": {
          "duration": 0.279473,
          "end_time": "2024-05-14T19:07:38.407343",
          "exception": false,
          "start_time": "2024-05-14T19:07:38.127870",
          "status": "completed"
        },
        "tags": [],
        "id": "8912ae3a"
      },
      "source": [
        "**model history:**"
      ]
    },
    {
      "cell_type": "code",
      "execution_count": null,
      "id": "b67ce6cf",
      "metadata": {
        "execution": {
          "iopub.execute_input": "2024-05-14T19:07:38.992900Z",
          "iopub.status.busy": "2024-05-14T19:07:38.992542Z",
          "iopub.status.idle": "2024-05-14T19:07:39.681890Z",
          "shell.execute_reply": "2024-05-14T19:07:39.680774Z"
        },
        "papermill": {
          "duration": 0.985991,
          "end_time": "2024-05-14T19:07:39.684015",
          "exception": false,
          "start_time": "2024-05-14T19:07:38.698024",
          "status": "completed"
        },
        "tags": [],
        "id": "b67ce6cf",
        "outputId": "89e7b335-c420-41ea-ec21-59ad9ae1ae99"
      },
      "outputs": [
        {
          "data": {
            "image/png": "[encoded data removed]",
            "text/plain": [
              "<Figure size 1200x600 with 2 Axes>"
            ]
          },
          "metadata": {},
          "output_type": "display_data"
        }
      ],
      "source": [
        "\n",
        "\n",
        "plt.figure(figsize = (12, 6))\n",
        "\n",
        "# loss plot\n",
        "\n",
        "plt.subplot(1, 2, 1)\n",
        "plt.plot(history.history['loss'], label = 'Training Loss')\n",
        "plt.plot(history.history['val_loss'], label = 'Validation Loss')\n",
        "plt.xlabel('Epoch')\n",
        "plt.ylabel('Loss')\n",
        "plt.title('Training and Validation Loss')\n",
        "plt.legend()\n",
        "\n",
        "# accuracy plot\n",
        "\n",
        "plt.subplot(1, 2, 2)\n",
        "plt.plot(history.history['accuracy'], label = 'Training Accuracy')\n",
        "plt.plot(history.history['val_accuracy'], label = 'Validation Accuracy')\n",
        "plt.xlabel('Epoch')\n",
        "plt.ylabel('Accuracy')\n",
        "plt.title('Training and Validation Accuracy')\n",
        "plt.legend()\n",
        "\n",
        "plt.tight_layout()\n",
        "plt.show()"
      ]
    },
    {
      "cell_type": "markdown",
      "id": "078e2464",
      "metadata": {
        "papermill": {
          "duration": 0.330241,
          "end_time": "2024-05-14T19:07:40.315085",
          "exception": false,
          "start_time": "2024-05-14T19:07:39.984844",
          "status": "completed"
        },
        "tags": [],
        "id": "078e2464"
      },
      "source": [
        "**confusion matrix:**"
      ]
    },
    {
      "cell_type": "code",
      "execution_count": null,
      "id": "240f6c1b",
      "metadata": {
        "execution": {
          "iopub.execute_input": "2024-05-14T19:07:40.874774Z",
          "iopub.status.busy": "2024-05-14T19:07:40.874045Z",
          "iopub.status.idle": "2024-05-14T19:07:41.241988Z",
          "shell.execute_reply": "2024-05-14T19:07:41.240773Z"
        },
        "papermill": {
          "duration": 0.648868,
          "end_time": "2024-05-14T19:07:41.245128",
          "exception": false,
          "start_time": "2024-05-14T19:07:40.596260",
          "status": "completed"
        },
        "tags": [],
        "id": "240f6c1b",
        "outputId": "9b535fdb-d2ed-47a3-8686-1e58fbb6daa2"
      },
      "outputs": [
        {
          "data": {
            "image/png": "[encoded data removed]",
            "text/plain": [
              "<Figure size 800x1200 with 2 Axes>"
            ]
          },
          "metadata": {},
          "output_type": "display_data"
        }
      ],
      "source": [
        "train_matrix = confusion_matrix(y_train, y_pred_train)\n",
        "test_matrix = confusion_matrix(y_test, y_pred_test)\n",
        "\n",
        "class_labels = ['fake', 'true']\n",
        "\n",
        "disp_train = ConfusionMatrixDisplay(confusion_matrix = train_matrix, display_labels = class_labels)\n",
        "disp_test = ConfusionMatrixDisplay(confusion_matrix = test_matrix, display_labels = class_labels)\n",
        "\n",
        "fig, axs = plt.subplots(1, 2, figsize = (8, 12))\n",
        "\n",
        "# train\n",
        "\n",
        "disp_train.plot(ax = axs[0], cmap = 'YlGnBu', colorbar = False)\n",
        "axs[0].set_title('Train Confusion Matrix')\n",
        "\n",
        "# test\n",
        "\n",
        "disp_test.plot(ax = axs[1], cmap = 'YlGnBu', colorbar = False)\n",
        "axs[1].set_title('Test Confusion Matrix')\n",
        "\n",
        "plt.tight_layout()\n",
        "plt.show()"
      ]
    }
  ],
  "metadata": {
    "kaggle": {
      "accelerator": "nvidiaTeslaT4",
      "dataSources": [
        {
          "datasetId": 4831777,
          "sourceId": 8165591,
          "sourceType": "datasetVersion"
        }
      ],
      "dockerImageVersionId": 30698,
      "isGpuEnabled": true,
      "isInternetEnabled": true,
      "language": "python",
      "sourceType": "notebook"
    },
    "kernelspec": {
      "display_name": "Python 3",
      "language": "python",
      "name": "python3"
    },
    "language_info": {
      "codemirror_mode": {
        "name": "ipython",
        "version": 3
      },
      "file_extension": ".py",
      "mimetype": "text/x-python",
      "name": "python",
      "nbconvert_exporter": "python",
      "pygments_lexer": "ipython3",
      "version": "3.10.13"
    },
    "papermill": {
      "default_parameters": {},
      "duration": 3783.108143,
      "end_time": "2024-05-14T19:07:44.501063",
      "environment_variables": {},
      "exception": null,
      "input_path": "__notebook__.ipynb",
      "output_path": "__notebook__.ipynb",
      "parameters": {},
      "start_time": "2024-05-14T18:04:41.392920",
      "version": "2.5.0"
    },
    "colab": {
      "provenance": [],
      "include_colab_link": true
    }
  },
  "nbformat": 4,
  "nbformat_minor": 5
}